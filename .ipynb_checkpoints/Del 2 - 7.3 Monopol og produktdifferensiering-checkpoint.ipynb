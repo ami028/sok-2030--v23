{
 "cells": [
  {
   "cell_type": "markdown",
   "id": "be283104-b5f3-4426-bd9e-4ccec12766c7",
   "metadata": {},
   "source": [
    "# Sok-2030 Næringsøkonomi og konkuransestrategi\n",
    "## Del 2 Monopol og produktdifferensiering\n",
    "Optimalt valg av antall salgssteder\n"
   ]
  },
  {
   "cell_type": "code",
   "execution_count": 65,
   "id": "1aec66cd-319a-4a53-83e3-8102a569e331",
   "metadata": {},
   "outputs": [],
   "source": [
    "from sympy import *\n",
    "import sympy as sp\n",
    "from matplotlib import pyplot as plt\n",
    "import numpy as np"
   ]
  },
  {
   "cell_type": "code",
   "execution_count": 40,
   "id": "aaf958f7-4532-45a3-90c9-f87eea71d56f",
   "metadata": {},
   "outputs": [],
   "source": [
    "V, t,n,c, F,N=symbols('V t n c F N')"
   ]
  },
  {
   "cell_type": "code",
   "execution_count": 39,
   "id": "7da365b2-0a9e-4ca2-9a30-c1cf2f3e0eff",
   "metadata": {},
   "outputs": [],
   "source": [
    "def profit(V,t,c,n,F,N):\n",
    "    return (V-(t/(2*n))-c)*N-n*F"
   ]
  },
  {
   "cell_type": "code",
   "execution_count": 49,
   "id": "4b45b08b-4a0d-4061-a489-dd06b83ae4ef",
   "metadata": {},
   "outputs": [
    {
     "data": {
      "text/latex": [
       "$\\displaystyle - F + \\frac{N t}{2 n^{2}}$"
      ],
      "text/plain": [
       "-F + N*t/(2*n**2)"
      ]
     },
     "metadata": {},
     "output_type": "display_data"
    }
   ],
   "source": [
    "d_profit=sp.diff(profit(V,t,c,n,F,N),n)\n",
    "\n",
    "display(d_profit)"
   ]
  },
  {
   "cell_type": "code",
   "execution_count": 71,
   "id": "dbb1eff7-45b5-441d-bd07-35fd5d4a2cb2",
   "metadata": {},
   "outputs": [
    {
     "data": {
      "text/latex": [
       "$\\displaystyle - F + \\frac{N t}{2 n^{2}} = 0$"
      ],
      "text/plain": [
       "Eq(-F + N*t/(2*n**2), 0)"
      ]
     },
     "execution_count": 71,
     "metadata": {},
     "output_type": "execute_result"
    }
   ],
   "source": [
    "foc=sp.Eq(d_profit,0)\n",
    "foc"
   ]
  },
  {
   "cell_type": "code",
   "execution_count": 75,
   "id": "62b1936f-200c-4bc2-b8bc-5cb43d287091",
   "metadata": {},
   "outputs": [
    {
     "data": {
      "text/latex": [
       "$\\displaystyle - \\frac{\\sqrt{2} \\sqrt{\\frac{N t}{F}}}{2}$"
      ],
      "text/plain": [
       "-sqrt(2)*sqrt(N*t/F)/2"
      ]
     },
     "execution_count": 75,
     "metadata": {},
     "output_type": "execute_result"
    }
   ],
   "source": [
    "from sympy.solvers import solve\n",
    "n_max=solve(foc,n)[0]\n",
    "n_max"
   ]
  },
  {
   "cell_type": "code",
   "execution_count": null,
   "id": "ddb98ab2-5219-4e74-8403-a28b82d9dddd",
   "metadata": {},
   "outputs": [],
   "source": [
    "# løsningen har feil fortegn??"
   ]
  },
  {
   "cell_type": "code",
   "execution_count": null,
   "id": "e8cc1624-b435-4c14-96d8-f3485ad1dabd",
   "metadata": {},
   "outputs": [],
   "source": []
  }
 ],
 "metadata": {
  "kernelspec": {
   "display_name": "Python 3 (ipykernel)",
   "language": "python",
   "name": "python3"
  },
  "language_info": {
   "codemirror_mode": {
    "name": "ipython",
    "version": 3
   },
   "file_extension": ".py",
   "mimetype": "text/x-python",
   "name": "python",
   "nbconvert_exporter": "python",
   "pygments_lexer": "ipython3",
   "version": "3.9.13"
  }
 },
 "nbformat": 4,
 "nbformat_minor": 5
}
