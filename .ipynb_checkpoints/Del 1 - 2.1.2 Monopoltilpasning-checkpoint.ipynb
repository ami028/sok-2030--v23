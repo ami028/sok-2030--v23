{
 "cells": [
  {
   "cell_type": "markdown",
   "id": "57988f8d-8ad6-41e6-963a-a2dbac600432",
   "metadata": {},
   "source": [
    "# Sok-2030 Næringsøkonomi og konkuransestrategi\n",
    "## Del 1 Grunleggende Mikro\n",
    "### Optimal tilpasning ved monopol"
   ]
  },
  {
   "cell_type": "code",
   "execution_count": 19,
   "id": "d83a74f8-bd6a-46fb-86b3-34d42e669430",
   "metadata": {},
   "outputs": [],
   "source": [
    "import sympy as sp\n",
    "import numpy as np\n",
    "from matplotlib import pyplot as plt"
   ]
  },
  {
   "cell_type": "code",
   "execution_count": 20,
   "id": "6168e76c-c423-49bc-9b5a-f0cac118bc34",
   "metadata": {},
   "outputs": [],
   "source": [
    "def marginalinntekt(Q):\n",
    "    return (120-18*Q/50)"
   ]
  },
  {
   "cell_type": "code",
   "execution_count": 21,
   "id": "5e916a23-1b0e-4717-9456-31ff367ba08d",
   "metadata": {},
   "outputs": [],
   "source": [
    "def marginalcost(Q):\n",
    "    return (10+Q/25)"
   ]
  },
  {
   "cell_type": "code",
   "execution_count": 22,
   "id": "0525741b-f86c-4de7-909a-19f57c486a57",
   "metadata": {},
   "outputs": [
    {
     "data": {
      "text/latex": [
       "$\\displaystyle 120 - \\frac{9 Q}{25} = \\frac{Q}{25} + 10$"
      ],
      "text/plain": [
       "Eq(120 - 9*Q/25, Q/25 + 10)"
      ]
     },
     "execution_count": 22,
     "metadata": {},
     "output_type": "execute_result"
    }
   ],
   "source": [
    "Q=sp.symbols('Q', real=True, positive=True)\n",
    "equ=sp.Eq(marginalinntekt(Q),marginalcost(Q))\n",
    "equ"
   ]
  },
  {
   "cell_type": "markdown",
   "id": "180de198-b09f-4510-b9fb-2b418eae858f",
   "metadata": {},
   "source": [
    "### Optimal kvantum og pris for monopolbedriften er:"
   ]
  },
  {
   "cell_type": "code",
   "execution_count": 23,
   "id": "4e3ecb1d-94d9-4319-ad55-aa8fbbb25f28",
   "metadata": {},
   "outputs": [
    {
     "data": {
      "text/latex": [
       "$\\displaystyle 275$"
      ],
      "text/plain": [
       "275"
      ]
     },
     "execution_count": 23,
     "metadata": {},
     "output_type": "execute_result"
    }
   ],
   "source": [
    "Q_equ=sp.solve(equ,Q)[0]\n",
    "Q_equ"
   ]
  },
  {
   "cell_type": "code",
   "execution_count": 24,
   "id": "e552cd44-3329-44aa-aef4-00b9e64f8d30",
   "metadata": {},
   "outputs": [],
   "source": [
    "def demand(Q):\n",
    "    return (120-9*Q/50)"
   ]
  },
  {
   "cell_type": "code",
   "execution_count": 26,
   "id": "2db1a960-9288-417b-89b3-4a743d4df84b",
   "metadata": {},
   "outputs": [
    {
     "data": {
      "text/latex": [
       "$\\displaystyle \\frac{141}{2}$"
      ],
      "text/plain": [
       "141/2"
      ]
     },
     "execution_count": 26,
     "metadata": {},
     "output_type": "execute_result"
    }
   ],
   "source": [
    "p_eq=demand(Q_equ)\n",
    "p_eq"
   ]
  },
  {
   "cell_type": "code",
   "execution_count": null,
   "id": "d41a99a7-bc6c-4e21-af3d-33e1329a2a3a",
   "metadata": {},
   "outputs": [],
   "source": []
  }
 ],
 "metadata": {
  "kernelspec": {
   "display_name": "Python 3 (ipykernel)",
   "language": "python",
   "name": "python3"
  },
  "language_info": {
   "codemirror_mode": {
    "name": "ipython",
    "version": 3
   },
   "file_extension": ".py",
   "mimetype": "text/x-python",
   "name": "python",
   "nbconvert_exporter": "python",
   "pygments_lexer": "ipython3",
   "version": "3.9.13"
  }
 },
 "nbformat": 4,
 "nbformat_minor": 5
}
